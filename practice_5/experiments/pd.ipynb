{
 "cells": [
  {
   "attachments": {},
   "cell_type": "markdown",
   "id": "74e911d3",
   "metadata": {},
   "source": [
    "# PD"
   ]
  },
  {
   "cell_type": "code",
   "execution_count": 1,
   "metadata": {},
   "outputs": [],
   "source": [
    "import pandas as pd\n",
    "import numpy as np\n",
    "import seaborn as sns\n",
    "import matplotlib.pyplot as plt\n",
    "import scipy.stats as ss\n",
    "import ipywidgets as widgets"
   ]
  },
  {
   "attachments": {},
   "cell_type": "markdown",
   "id": "7183cd4d",
   "metadata": {},
   "source": [
    "## Main strategies"
   ]
  },
  {
   "cell_type": "code",
   "execution_count": 2,
   "id": "231c80bb",
   "metadata": {},
   "outputs": [
    {
     "data": {
      "text/plain": [
       "Index(['run_num', 'num_agents', 'rand', 'coop', 'def', 'tft', 'joss', 'anon'], dtype='object')"
      ]
     },
     "execution_count": 2,
     "metadata": {},
     "output_type": "execute_result"
    }
   ],
   "source": [
    "df = pd.read_csv('tournament-mean-payoff.csv', skiprows=6).drop(columns=['[step]'])\n",
    "df = df.rename(columns={'[run number]': 'run_num', 'random-score / num-random-games': 'rand', 'cooperate-score / num-cooperate-games': 'coop',\n",
    "'defect-score / num-defect-games': 'def', 'tit-for-tat-score / num-tit-for-tat-games': 'tft', 'joss-score / num-joss-games': 'joss',\n",
    "'anonymous-score / num-anonymous-games': 'anon', 'num-strategy-agents': 'num_agents'})\n",
    "df.columns"
   ]
  },
  {
   "cell_type": "code",
   "execution_count": 3,
   "id": "453feb6f",
   "metadata": {},
   "outputs": [
    {
     "data": {
      "text/html": [
       "<div>\n",
       "<style scoped>\n",
       "    .dataframe tbody tr th:only-of-type {\n",
       "        vertical-align: middle;\n",
       "    }\n",
       "\n",
       "    .dataframe tbody tr th {\n",
       "        vertical-align: top;\n",
       "    }\n",
       "\n",
       "    .dataframe thead th {\n",
       "        text-align: right;\n",
       "    }\n",
       "</style>\n",
       "<table border=\"1\" class=\"dataframe\">\n",
       "  <thead>\n",
       "    <tr style=\"text-align: right;\">\n",
       "      <th></th>\n",
       "      <th>run_num</th>\n",
       "      <th>num_agents</th>\n",
       "      <th>mean</th>\n",
       "      <th>strategy</th>\n",
       "    </tr>\n",
       "  </thead>\n",
       "  <tbody>\n",
       "    <tr>\n",
       "      <th>0</th>\n",
       "      <td>4</td>\n",
       "      <td>10</td>\n",
       "      <td>1.935283</td>\n",
       "      <td>coop</td>\n",
       "    </tr>\n",
       "    <tr>\n",
       "      <th>1</th>\n",
       "      <td>2</td>\n",
       "      <td>10</td>\n",
       "      <td>1.933744</td>\n",
       "      <td>coop</td>\n",
       "    </tr>\n",
       "    <tr>\n",
       "      <th>2</th>\n",
       "      <td>3</td>\n",
       "      <td>10</td>\n",
       "      <td>1.928650</td>\n",
       "      <td>coop</td>\n",
       "    </tr>\n",
       "    <tr>\n",
       "      <th>3</th>\n",
       "      <td>1</td>\n",
       "      <td>10</td>\n",
       "      <td>1.928086</td>\n",
       "      <td>coop</td>\n",
       "    </tr>\n",
       "    <tr>\n",
       "      <th>4</th>\n",
       "      <td>5</td>\n",
       "      <td>10</td>\n",
       "      <td>1.919035</td>\n",
       "      <td>coop</td>\n",
       "    </tr>\n",
       "  </tbody>\n",
       "</table>\n",
       "</div>"
      ],
      "text/plain": [
       "   run_num  num_agents      mean strategy\n",
       "0        4          10  1.935283     coop\n",
       "1        2          10  1.933744     coop\n",
       "2        3          10  1.928650     coop\n",
       "3        1          10  1.928086     coop\n",
       "4        5          10  1.919035     coop"
      ]
     },
     "execution_count": 3,
     "metadata": {},
     "output_type": "execute_result"
    }
   ],
   "source": [
    "strategy_cols = [col for col in df.columns if col not in ['run_num', 'num_agents']]\n",
    "dfs = []\n",
    "for col in strategy_cols:\n",
    "    cur_df = df.loc[:, ['run_num', 'num_agents', col]]\n",
    "    cur_df = cur_df.rename(columns={col: 'mean'})\n",
    "    cur_df['strategy'] = col\n",
    "    dfs.append(cur_df)\n",
    "str_df = pd.concat(dfs, axis=0)\n",
    "str_df[str_df['strategy'] == 'coop'].head()"
   ]
  },
  {
   "cell_type": "code",
   "execution_count": 4,
   "id": "4c504188",
   "metadata": {},
   "outputs": [
    {
     "data": {
      "application/vnd.jupyter.widget-view+json": {
       "model_id": "67f46c51a07744fab224603a6dac90fd",
       "version_major": 2,
       "version_minor": 0
      },
      "text/plain": [
       "HBox(children=(IntSlider(value=10, min=10, step=10),))"
      ]
     },
     "metadata": {},
     "output_type": "display_data"
    },
    {
     "data": {
      "application/vnd.jupyter.widget-view+json": {
       "model_id": "6470718c39654a528fc11f8874614f90",
       "version_major": 2,
       "version_minor": 0
      },
      "text/plain": [
       "Output()"
      ]
     },
     "metadata": {},
     "output_type": "display_data"
    }
   ],
   "source": [
    "num_agents_slider = widgets.IntSlider(min=10, max=100, step=10)\n",
    "\n",
    "ui = widgets.HBox([num_agents_slider])\n",
    "\n",
    "def draw_violinplot(num_agents):\n",
    "    filtered = str_df[str_df['num_agents'] == num_agents]\n",
    "    sns.violinplot(data=filtered, x=\"strategy\", y=\"mean\").set(title=f'num_agents = {num_agents}')\n",
    "    plt.show()\n",
    "\n",
    "out = widgets.interactive_output(draw_violinplot, {'num_agents': num_agents_slider})\n",
    "\n",
    "display(ui, out)\n"
   ]
  },
  {
   "attachments": {},
   "cell_type": "markdown",
   "id": "c3b0d0e5",
   "metadata": {},
   "source": [
    "Let's analyze within number of agents and startegies.\n",
    "\n",
    "Number of agents:\n",
    "* smaller - greater probability to meet more agents with one type of strategies. Therefore, wider distribution of values.\n",
    "* greater - meet approximately equal number of agents of all types. Almost same values for each round.\n",
    "\n",
    "Strategies:\n",
    "* joss - slightly better than tit-for-tat.\n",
    "* anonymous - almost the same as random."
   ]
  },
  {
   "cell_type": "markdown",
   "id": "b841a0f6",
   "metadata": {},
   "source": []
  }
 ],
 "metadata": {
  "kernelspec": {
   "display_name": "netlogo-env",
   "language": "python",
   "name": "python3"
  },
  "language_info": {
   "codemirror_mode": {
    "name": "ipython",
    "version": 3
   },
   "file_extension": ".py",
   "mimetype": "text/x-python",
   "name": "python",
   "nbconvert_exporter": "python",
   "pygments_lexer": "ipython3",
   "version": "3.10.4 (main, Mar 31 2022, 08:41:55) [GCC 7.5.0]"
  },
  "vscode": {
   "interpreter": {
    "hash": "29bb89ce77cddbf90cc5c1bc7f08b4f2034fa5cd8ff8ac273040d4daf89395a4"
   }
  }
 },
 "nbformat": 4,
 "nbformat_minor": 5
}
