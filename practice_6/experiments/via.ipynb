{
 "cells": [
  {
   "attachments": {},
   "cell_type": "markdown",
   "metadata": {},
   "source": [
    "# VIA"
   ]
  },
  {
   "cell_type": "code",
   "execution_count": 2,
   "metadata": {},
   "outputs": [],
   "source": [
    "import pandas as pd\n",
    "import numpy as np\n",
    "import seaborn as sns\n",
    "import matplotlib.pyplot as plt\n",
    "import scipy.stats as ss\n",
    "import ipywidgets as widgets"
   ]
  },
  {
   "cell_type": "code",
   "execution_count": 16,
   "metadata": {},
   "outputs": [
    {
     "data": {
      "text/plain": [
       "Index(['run_num', 'gamma', 'epsilon', 'reward'], dtype='object')"
      ]
     },
     "execution_count": 16,
     "metadata": {},
     "output_type": "execute_result"
    }
   ],
   "source": [
    "df = pd.read_csv('policies-comparison.csv', skiprows=6).drop(columns=['[step]', ])\n",
    "df = df.rename(columns={'policy-reward': 'reward', '[run number]': 'run_num'})\n",
    "df.columns"
   ]
  },
  {
   "attachments": {},
   "cell_type": "markdown",
   "metadata": {},
   "source": [
    "Answers:\n",
    "1. New states are (x, y, direction) triplets.\n",
    "2. To make algorithm converge with poisson barrels we need to include max-iters option that checks if algorithm hasn't achieved particular threshold of delta that it can't overcome due to randomness of patches with poisson."
   ]
  },
  {
   "cell_type": "code",
   "execution_count": 20,
   "metadata": {},
   "outputs": [
    {
     "data": {
      "text/html": [
       "<div>\n",
       "<style scoped>\n",
       "    .dataframe tbody tr th:only-of-type {\n",
       "        vertical-align: middle;\n",
       "    }\n",
       "\n",
       "    .dataframe tbody tr th {\n",
       "        vertical-align: top;\n",
       "    }\n",
       "\n",
       "    .dataframe thead th {\n",
       "        text-align: right;\n",
       "    }\n",
       "</style>\n",
       "<table border=\"1\" class=\"dataframe\">\n",
       "  <thead>\n",
       "    <tr style=\"text-align: right;\">\n",
       "      <th></th>\n",
       "      <th>gamma</th>\n",
       "      <th>eps</th>\n",
       "      <th>mean_rew</th>\n",
       "    </tr>\n",
       "  </thead>\n",
       "  <tbody>\n",
       "    <tr>\n",
       "      <th>0</th>\n",
       "      <td>0.85</td>\n",
       "      <td>0.2</td>\n",
       "      <td>-32703.000000</td>\n",
       "    </tr>\n",
       "    <tr>\n",
       "      <th>1</th>\n",
       "      <td>0.85</td>\n",
       "      <td>0.2</td>\n",
       "      <td>-2992.666667</td>\n",
       "    </tr>\n",
       "    <tr>\n",
       "      <th>2</th>\n",
       "      <td>0.85</td>\n",
       "      <td>0.2</td>\n",
       "      <td>-18542.000000</td>\n",
       "    </tr>\n",
       "    <tr>\n",
       "      <th>3</th>\n",
       "      <td>0.85</td>\n",
       "      <td>0.5</td>\n",
       "      <td>-48481.000000</td>\n",
       "    </tr>\n",
       "    <tr>\n",
       "      <th>4</th>\n",
       "      <td>0.85</td>\n",
       "      <td>0.5</td>\n",
       "      <td>-18525.666667</td>\n",
       "    </tr>\n",
       "  </tbody>\n",
       "</table>\n",
       "</div>"
      ],
      "text/plain": [
       "   gamma  eps      mean_rew\n",
       "0   0.85  0.2 -32703.000000\n",
       "1   0.85  0.2  -2992.666667\n",
       "2   0.85  0.2 -18542.000000\n",
       "3   0.85  0.5 -48481.000000\n",
       "4   0.85  0.5 -18525.666667"
      ]
     },
     "execution_count": 20,
     "metadata": {},
     "output_type": "execute_result"
    }
   ],
   "source": [
    "df = df.sort_values('run_num')\n",
    "means_df = pd.DataFrame(columns=['gamma', 'eps', 'mean_rew'])\n",
    "for g in sorted(df['gamma'].unique()):\n",
    "    for e in sorted(df['epsilon'].unique()):\n",
    "        for i in range(3):\n",
    "            mean_rew = df[(df['gamma'] == g) & (df['epsilon'] == e)]['reward'][3*i:3*(i+1)].mean()\n",
    "            means_df.loc[len(means_df)] = [g, e, mean_rew]\n",
    "means_df.head()"
   ]
  },
  {
   "cell_type": "code",
   "execution_count": 19,
   "metadata": {},
   "outputs": [
    {
     "data": {
      "application/vnd.jupyter.widget-view+json": {
       "model_id": "d0d99afff6fc4d9683363782587405d4",
       "version_major": 2,
       "version_minor": 0
      },
      "text/plain": [
       "HBox(children=(FloatSlider(value=0.85, max=0.99, min=0.85, step=0.04),))"
      ]
     },
     "metadata": {},
     "output_type": "display_data"
    },
    {
     "data": {
      "application/vnd.jupyter.widget-view+json": {
       "model_id": "c1064ae8ae4a48d29cf112cb10b58d17",
       "version_major": 2,
       "version_minor": 0
      },
      "text/plain": [
       "Output()"
      ]
     },
     "metadata": {},
     "output_type": "display_data"
    }
   ],
   "source": [
    "slider = widgets.FloatSlider(min=0.85, max=0.99, step=0.04)\n",
    "\n",
    "ui = widgets.HBox([slider])\n",
    "\n",
    "def draw_plot(gamma):\n",
    "    filtered = means_df[means_df['gamma'] == gamma]\n",
    "    sns.scatterplot(data=filtered, x=\"eps\", y=\"mean_rew\").set(title=f'gamma = {gamma}')\n",
    "    plt.show()\n",
    "\n",
    "out = widgets.interactive_output(draw_plot, {'gamma': slider})\n",
    "\n",
    "display(ui, out)"
   ]
  },
  {
   "attachments": {},
   "cell_type": "markdown",
   "metadata": {},
   "source": [
    "Variant conclusions:\n",
    "1. Agent can't find the finish for some cases with gamma = 0.93. And for lots of cases with gamma < 0.9.\n",
    "2. For gamma > 0.95 agent can find the out-patch parfectly.\n",
    "3. The best result is for higher epsilon. Although, result doesn't depend on epsilon a lot."
   ]
  },
  {
   "cell_type": "markdown",
   "metadata": {},
   "source": []
  }
 ],
 "metadata": {
  "kernelspec": {
   "display_name": "netlogo-env",
   "language": "python",
   "name": "python3"
  },
  "language_info": {
   "codemirror_mode": {
    "name": "ipython",
    "version": 3
   },
   "file_extension": ".py",
   "mimetype": "text/x-python",
   "name": "python",
   "nbconvert_exporter": "python",
   "pygments_lexer": "ipython3",
   "version": "3.10.4 (main, Mar 31 2022, 08:41:55) [GCC 7.5.0]"
  },
  "orig_nbformat": 4,
  "vscode": {
   "interpreter": {
    "hash": "29bb89ce77cddbf90cc5c1bc7f08b4f2034fa5cd8ff8ac273040d4daf89395a4"
   }
  }
 },
 "nbformat": 4,
 "nbformat_minor": 2
}
